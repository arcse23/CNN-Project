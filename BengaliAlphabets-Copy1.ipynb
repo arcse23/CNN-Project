{
 "cells": [
  {
   "cell_type": "code",
   "execution_count": 1,
   "id": "39251838",
   "metadata": {},
   "outputs": [],
   "source": [
    "import tensorflow as tf\n",
    "from keras.models import Sequential\n",
    "from keras.layers import Conv2D, MaxPooling2D, Flatten, Dense, Dropout, Activation\n",
    "from keras.preprocessing.image import ImageDataGenerator\n",
    "from PIL import ImageFile"
   ]
  },
  {
   "cell_type": "code",
   "execution_count": 2,
   "id": "d8bd570a",
   "metadata": {},
   "outputs": [
    {
     "name": "stdout",
     "output_type": "stream",
     "text": [
      "Found 63309 images belonging to 50 classes.\n",
      "Found 15809 images belonging to 50 classes.\n",
      "Found 19832 images belonging to 50 classes.\n"
     ]
    }
   ],
   "source": [
    "datagen = ImageDataGenerator(rescale=1./255)\n",
    "train_generator = datagen.flow_from_directory(\n",
    "    'data/train', target_size = (28, 28), color_mode='grayscale', batch_size = 1, class_mode = 'categorical')\n",
    "valid_generator = datagen.flow_from_directory(\n",
    "    'data/val', target_size = (28, 28), color_mode='grayscale', batch_size = 1, class_mode = 'categorical')\n",
    "test_generator = datagen.flow_from_directory(\n",
    "    'data/test', target_size = (28, 28), color_mode='grayscale', batch_size = 1, class_mode = 'categorical')"
   ]
  },
  {
   "cell_type": "code",
   "execution_count": 3,
   "id": "391e5a95",
   "metadata": {},
   "outputs": [],
   "source": [
    "model = Sequential()"
   ]
  },
  {
   "cell_type": "code",
   "execution_count": 4,
   "id": "60338ec1",
   "metadata": {},
   "outputs": [
    {
     "data": {
      "text/plain": [
       "(None, 14, 14, 32)"
      ]
     },
     "execution_count": 4,
     "metadata": {},
     "output_type": "execute_result"
    }
   ],
   "source": [
    "model.add(Conv2D(32, 3, padding='same', input_shape=(28, 28, 1)))\n",
    "model.add(tf.keras.layers.LeakyReLU(alpha=0.1))\n",
    "model.add(MaxPooling2D(pool_size=(2, 2), strides=(2, 2)))\n",
    "model.add(Dropout(0.25))\n",
    "model.output_shape"
   ]
  },
  {
   "cell_type": "code",
   "execution_count": 5,
   "id": "0ec33f7a",
   "metadata": {},
   "outputs": [
    {
     "data": {
      "text/plain": [
       "(None, 7, 7, 64)"
      ]
     },
     "execution_count": 5,
     "metadata": {},
     "output_type": "execute_result"
    }
   ],
   "source": [
    "model.add(Conv2D(64, 3, padding='same'))\n",
    "model.add(tf.keras.layers.LeakyReLU(alpha=0.1))\n",
    "model.add(MaxPooling2D(pool_size=(2, 2), strides=(2, 2)))\n",
    "model.add(Dropout(0.25))\n",
    "model.output_shape"
   ]
  },
  {
   "cell_type": "code",
   "execution_count": 6,
   "id": "547170af",
   "metadata": {},
   "outputs": [
    {
     "data": {
      "text/plain": [
       "(None, 4, 4, 128)"
      ]
     },
     "execution_count": 6,
     "metadata": {},
     "output_type": "execute_result"
    }
   ],
   "source": [
    "model.add(Conv2D(128, 3, padding='valid'))\n",
    "model.add(tf.keras.layers.LeakyReLU(alpha=0.1))\n",
    "model.add(MaxPooling2D(pool_size=(2, 2), strides=(1, 1)))\n",
    "model.add(Dropout(0.25))\n",
    "model.output_shape"
   ]
  },
  {
   "cell_type": "code",
   "execution_count": 7,
   "id": "cf17d869",
   "metadata": {},
   "outputs": [
    {
     "data": {
      "text/plain": [
       "(None, 128)"
      ]
     },
     "execution_count": 7,
     "metadata": {},
     "output_type": "execute_result"
    }
   ],
   "source": [
    "model.add(Flatten())\n",
    "model.add(Dense(128))\n",
    "model.add(tf.keras.layers.LeakyReLU(alpha=0.1))\n",
    "model.add(Dropout(0.3))\n",
    "model.output_shape"
   ]
  },
  {
   "cell_type": "code",
   "execution_count": 8,
   "id": "6dd78515",
   "metadata": {},
   "outputs": [
    {
     "data": {
      "text/plain": [
       "(None, 50)"
      ]
     },
     "execution_count": 8,
     "metadata": {},
     "output_type": "execute_result"
    }
   ],
   "source": [
    "model.add(Dense(50, activation='softmax'))\n",
    "model.output_shape"
   ]
  },
  {
   "cell_type": "code",
   "execution_count": null,
   "id": "cac5c00c",
   "metadata": {},
   "outputs": [],
   "source": [
    "opt = tf.keras.optimizers.Adam(learning_rate=0.0001)\n",
    "model.compile(optimizer = opt, loss = 'categorical_crossentropy', metrics = ['accuracy'])\n",
    "model.summary()"
   ]
  },
  {
   "cell_type": "code",
   "execution_count": null,
   "id": "77d28fb8",
   "metadata": {},
   "outputs": [],
   "source": [
    "model.fit(train_generator, steps_per_epoch=63309, epochs=30, validation_data=valid_generator, validation_steps=15809)\n",
    "model.save_weights('train_weights1.h5')"
   ]
  },
  {
   "cell_type": "code",
   "execution_count": null,
   "id": "afcc394b",
   "metadata": {},
   "outputs": [],
   "source": [
    "model.fit(train_generator, steps_per_epoch=63309, epochs=20, validation_data=valid_generator, validation_steps=15809)\n",
    "model.save_weights('train_weights2.h5')"
   ]
  },
  {
   "cell_type": "code",
   "execution_count": null,
   "id": "8c094a50",
   "metadata": {
    "scrolled": true
   },
   "outputs": [],
   "source": [
    "model.fit(train_generator, steps_per_epoch=63309, epochs=10, validation_data=valid_generator, validation_steps=15809)\n",
    "model.save_weights('train_weights3.h5')"
   ]
  },
  {
   "cell_type": "code",
   "execution_count": null,
   "id": "5228b42f",
   "metadata": {},
   "outputs": [],
   "source": [
    "model.load_weights('train_weights2.h5')"
   ]
  },
  {
   "cell_type": "code",
   "execution_count": null,
   "id": "ed4355d9",
   "metadata": {},
   "outputs": [],
   "source": [
    "opt2 = tf.keras.optimizers.Adam(learning_rate=0.00005)\n",
    "model.compile(optimizer = opt2, loss = 'categorical_crossentropy', metrics = ['accuracy'])"
   ]
  },
  {
   "cell_type": "code",
   "execution_count": null,
   "id": "f9ecd69d",
   "metadata": {},
   "outputs": [],
   "source": [
    "model.fit(train_generator, steps_per_epoch=63309, epochs=10, validation_data=valid_generator, validation_steps=15809)\n",
    "model.save_weights('train_weights21.h5')"
   ]
  },
  {
   "cell_type": "code",
   "execution_count": 11,
   "id": "36ab105f",
   "metadata": {
    "scrolled": true
   },
   "outputs": [
    {
     "name": "stdout",
     "output_type": "stream",
     "text": [
      "Epoch 1/3\n",
      "63309/63309 [==============================] - 252s 4ms/step - loss: 0.2403 - accuracy: 0.9320 - val_loss: 0.3294 - val_accuracy: 0.9156\n",
      "Epoch 2/3\n",
      "63309/63309 [==============================] - 264s 4ms/step - loss: 0.2350 - accuracy: 0.9354 - val_loss: 0.3265 - val_accuracy: 0.9159\n",
      "Epoch 3/3\n",
      "63309/63309 [==============================] - 265s 4ms/step - loss: 0.2338 - accuracy: 0.9356 - val_loss: 0.3282 - val_accuracy: 0.9154\n"
     ]
    }
   ],
   "source": [
    "model.load_weights('train_weights21.h5')\n",
    "opt3 = tf.keras.optimizers.Adam(learning_rate=0.000005)\n",
    "model.compile(optimizer = opt3, loss = 'categorical_crossentropy', metrics = ['accuracy'])\n",
    "model.fit(train_generator, steps_per_epoch=63309, epochs=3, validation_data=valid_generator, validation_steps=15809)\n",
    "model.save_weights('train_weights22.h5')"
   ]
  },
  {
   "cell_type": "code",
   "execution_count": 12,
   "id": "5249df7f",
   "metadata": {},
   "outputs": [
    {
     "name": "stdout",
     "output_type": "stream",
     "text": [
      "Epoch 1/3\n",
      "63309/63309 [==============================] - 244s 4ms/step - loss: 0.2311 - accuracy: 0.9344 - val_loss: 0.3272 - val_accuracy: 0.9159\n",
      "Epoch 2/3\n",
      "63309/63309 [==============================] - 253s 4ms/step - loss: 0.2317 - accuracy: 0.9352 - val_loss: 0.3307 - val_accuracy: 0.9154\n",
      "Epoch 3/3\n",
      "63309/63309 [==============================] - 246s 4ms/step - loss: 0.2311 - accuracy: 0.9346 - val_loss: 0.3262 - val_accuracy: 0.9166\n"
     ]
    },
    {
     "data": {
      "text/plain": [
       "<keras.callbacks.History at 0x2b1b7cc3730>"
      ]
     },
     "execution_count": 12,
     "metadata": {},
     "output_type": "execute_result"
    }
   ],
   "source": [
    "model.compile(optimizer = opt3, loss = 'categorical_crossentropy', metrics = ['accuracy'])\n",
    "model.fit(train_generator, steps_per_epoch=63309, epochs=3, validation_data=valid_generator, validation_steps=15809)"
   ]
  },
  {
   "cell_type": "code",
   "execution_count": 14,
   "id": "e88293cd",
   "metadata": {},
   "outputs": [
    {
     "name": "stdout",
     "output_type": "stream",
     "text": [
      "Epoch 1/5\n",
      "63309/63309 [==============================] - 243s 4ms/step - loss: 0.2307 - accuracy: 0.9342 - val_loss: 0.3278 - val_accuracy: 0.9152\n",
      "Epoch 2/5\n",
      "63309/63309 [==============================] - 274s 4ms/step - loss: 0.2265 - accuracy: 0.9365 - val_loss: 0.3272 - val_accuracy: 0.9156\n",
      "Epoch 3/5\n",
      "63309/63309 [==============================] - 289s 5ms/step - loss: 0.2264 - accuracy: 0.9362 - val_loss: 0.3288 - val_accuracy: 0.9155\n",
      "Epoch 4/5\n",
      "63309/63309 [==============================] - 279s 4ms/step - loss: 0.2269 - accuracy: 0.9363 - val_loss: 0.3277 - val_accuracy: 0.9153\n",
      "Epoch 5/5\n",
      "63309/63309 [==============================] - 275s 4ms/step - loss: 0.2310 - accuracy: 0.9347 - val_loss: 0.3269 - val_accuracy: 0.9159\n"
     ]
    }
   ],
   "source": [
    "model.load_weights('train_weights22.h5')\n",
    "opt3 = tf.keras.optimizers.Adam(learning_rate=0.000001)\n",
    "model.compile(optimizer = opt3, loss = 'categorical_crossentropy', metrics = ['accuracy'])\n",
    "model.fit(train_generator, steps_per_epoch=63309, epochs=5, validation_data=valid_generator, validation_steps=15809)\n",
    "model.save_weights('train_weights23.h5')"
   ]
  },
  {
   "cell_type": "code",
   "execution_count": 15,
   "id": "98d53794",
   "metadata": {
    "scrolled": true
   },
   "outputs": [
    {
     "name": "stdout",
     "output_type": "stream",
     "text": [
      "19832/19832 [==============================] - 83s 4ms/step - loss: 0.2897 - accuracy: 0.9240\n"
     ]
    },
    {
     "data": {
      "text/plain": [
       "[0.28974393010139465, 0.9240117073059082]"
      ]
     },
     "execution_count": 15,
     "metadata": {},
     "output_type": "execute_result"
    }
   ],
   "source": [
    "model.evaluate(test_generator)"
   ]
  },
  {
   "cell_type": "code",
   "execution_count": 9,
   "id": "478eac1c",
   "metadata": {},
   "outputs": [
    {
     "name": "stdout",
     "output_type": "stream",
     "text": [
      "Epoch 1/5\n",
      "63309/63309 [==============================] - 256s 4ms/step - loss: 0.2277 - accuracy: 0.9363 - val_loss: 0.3262 - val_accuracy: 0.9160\n",
      "Epoch 2/5\n",
      "63309/63309 [==============================] - 263s 4ms/step - loss: 0.2302 - accuracy: 0.9350 - val_loss: 0.3274 - val_accuracy: 0.9157\n",
      "Epoch 3/5\n",
      "63309/63309 [==============================] - 246s 4ms/step - loss: 0.2322 - accuracy: 0.9343 - val_loss: 0.3276 - val_accuracy: 0.9158\n",
      "Epoch 4/5\n",
      "63309/63309 [==============================] - 248s 4ms/step - loss: 0.2245 - accuracy: 0.9376 - val_loss: 0.3268 - val_accuracy: 0.9159\n",
      "Epoch 5/5\n",
      "63309/63309 [==============================] - 252s 4ms/step - loss: 0.2285 - accuracy: 0.9361 - val_loss: 0.3267 - val_accuracy: 0.9159\n"
     ]
    }
   ],
   "source": [
    "model.load_weights('train_weights23.h5')\n",
    "opt3 = tf.keras.optimizers.Adam(learning_rate=0.0000001)\n",
    "model.compile(optimizer = opt3, loss = 'categorical_crossentropy', metrics = ['accuracy'])\n",
    "model.fit(train_generator, steps_per_epoch=63309, epochs=5, validation_data=valid_generator, validation_steps=15809)\n",
    "model.save_weights('train_weights24.h5')"
   ]
  },
  {
   "cell_type": "code",
   "execution_count": 10,
   "id": "dbb77685",
   "metadata": {},
   "outputs": [
    {
     "name": "stdout",
     "output_type": "stream",
     "text": [
      "19832/19832 [==============================] - 31s 2ms/step - loss: 0.2902 - accuracy: 0.9241\n"
     ]
    },
    {
     "data": {
      "text/plain": [
       "[0.29017069935798645, 0.9240621328353882]"
      ]
     },
     "execution_count": 10,
     "metadata": {},
     "output_type": "execute_result"
    }
   ],
   "source": [
    "model.evaluate(test_generator)"
   ]
  },
  {
   "cell_type": "code",
   "execution_count": null,
   "id": "78ec2c3b",
   "metadata": {},
   "outputs": [],
   "source": []
  }
 ],
 "metadata": {
  "kernelspec": {
   "display_name": "Python 3 (ipykernel)",
   "language": "python",
   "name": "python3"
  },
  "language_info": {
   "codemirror_mode": {
    "name": "ipython",
    "version": 3
   },
   "file_extension": ".py",
   "mimetype": "text/x-python",
   "name": "python",
   "nbconvert_exporter": "python",
   "pygments_lexer": "ipython3",
   "version": "3.10.8"
  }
 },
 "nbformat": 4,
 "nbformat_minor": 5
}
