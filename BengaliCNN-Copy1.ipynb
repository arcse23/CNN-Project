{
 "cells": [
  {
   "cell_type": "code",
   "execution_count": 1,
   "id": "2ffcceec",
   "metadata": {},
   "outputs": [],
   "source": [
    "from keras.models import Sequential\n",
    "from keras.layers import Conv2D, MaxPooling2D, Flatten, Dense, Dropout, Activation\n",
    "from keras.preprocessing.image import ImageDataGenerator\n",
    "from PIL import ImageFile"
   ]
  },
  {
   "cell_type": "code",
   "execution_count": 2,
   "id": "ec093155",
   "metadata": {},
   "outputs": [],
   "source": [
    "train_valid_datagen = ImageDataGenerator(\n",
    "    rescale=1./255, shear_range=0.2, validation_split=0.1)\n",
    "test_datagen = ImageDataGenerator(rescale=1./255)"
   ]
  },
  {
   "cell_type": "code",
   "execution_count": 3,
   "id": "d6c06689",
   "metadata": {},
   "outputs": [
    {
     "name": "stdout",
     "output_type": "stream",
     "text": [
      "Found 10800 images belonging to 50 classes.\n",
      "Found 1200 images belonging to 50 classes.\n",
      "Found 3000 images belonging to 50 classes.\n"
     ]
    }
   ],
   "source": [
    "train_generator = train_valid_datagen.flow_from_directory(\n",
    "    'Dataset/Train', target_size = (32, 32), batch_size = 1, class_mode = 'categorical', subset='training')\n",
    "valid_generator = train_valid_datagen.flow_from_directory(\n",
    "    'Dataset/Train', target_size = (32, 32), batch_size = 1, class_mode = 'categorical', subset='validation')\n",
    "test_generator = test_datagen.flow_from_directory(\n",
    "    'Dataset/Test', target_size = (32, 32), batch_size = 1, class_mode = 'categorical')"
   ]
  },
  {
   "cell_type": "code",
   "execution_count": 4,
   "id": "57441452",
   "metadata": {},
   "outputs": [],
   "source": [
    "model = Sequential()\n",
    "\n",
    "model.add(Conv2D(128, kernel_size=(3, 3), activation='relu', padding='same', input_shape=(32, 32, 3)))\n",
    "model.add(Conv2D(256, kernel_size=(3, 3), activation='relu'))\n",
    "model.add(MaxPooling2D(pool_size = (4, 4)))\n",
    "model.add(Flatten())\n",
    "model.add(Dropout(0.5))\n",
    "\n",
    "model.add(Dense(128, activation='relu'))\n",
    "model.add(Dense(64, activation='relu'))\n",
    "model.add(Dense(50, activation='softmax'))\n",
    "\n",
    "model.compile(optimizer = 'adam', loss = 'categorical_crossentropy', metrics = ['accuracy'])"
   ]
  },
  {
   "cell_type": "code",
   "execution_count": 5,
   "id": "c4beba55",
   "metadata": {},
   "outputs": [
    {
     "name": "stdout",
     "output_type": "stream",
     "text": [
      "Epoch 1/50\n",
      "10800/10800 [==============================] - 223s 21ms/step - loss: 2.1143 - accuracy: 0.4126 - val_loss: 1.0276 - val_accuracy: 0.6908\n",
      "Epoch 2/50\n",
      "10800/10800 [==============================] - 233s 22ms/step - loss: 0.9281 - accuracy: 0.7156 - val_loss: 0.8180 - val_accuracy: 0.7533\n",
      "Epoch 3/50\n",
      "10800/10800 [==============================] - 211s 20ms/step - loss: 0.6879 - accuracy: 0.7869 - val_loss: 0.6685 - val_accuracy: 0.7942\n",
      "Epoch 4/50\n",
      "10800/10800 [==============================] - 211s 20ms/step - loss: 0.5542 - accuracy: 0.8265 - val_loss: 0.6723 - val_accuracy: 0.8117\n",
      "Epoch 5/50\n",
      "10800/10800 [==============================] - 210s 19ms/step - loss: 0.5013 - accuracy: 0.8463 - val_loss: 0.6300 - val_accuracy: 0.8200\n",
      "Epoch 6/50\n",
      "10800/10800 [==============================] - 211s 20ms/step - loss: 0.4347 - accuracy: 0.8662 - val_loss: 0.6616 - val_accuracy: 0.8517\n",
      "Epoch 7/50\n",
      "10800/10800 [==============================] - 215s 20ms/step - loss: 0.4166 - accuracy: 0.8739 - val_loss: 0.6816 - val_accuracy: 0.8450\n",
      "Epoch 8/50\n",
      "10800/10800 [==============================] - 229s 21ms/step - loss: 0.3973 - accuracy: 0.8835 - val_loss: 0.7478 - val_accuracy: 0.8208\n",
      "Epoch 9/50\n",
      "10800/10800 [==============================] - 216s 20ms/step - loss: 0.3647 - accuracy: 0.8962 - val_loss: 0.7727 - val_accuracy: 0.8342\n",
      "Epoch 10/50\n",
      "10800/10800 [==============================] - 212s 20ms/step - loss: 0.3416 - accuracy: 0.8992 - val_loss: 0.7643 - val_accuracy: 0.8442\n",
      "Epoch 11/50\n",
      "10800/10800 [==============================] - 213s 20ms/step - loss: 0.3435 - accuracy: 0.9056 - val_loss: 0.6626 - val_accuracy: 0.8517\n",
      "Epoch 12/50\n",
      "10800/10800 [==============================] - 212s 20ms/step - loss: 0.3361 - accuracy: 0.9076 - val_loss: 0.7723 - val_accuracy: 0.8308\n",
      "Epoch 13/50\n",
      "10800/10800 [==============================] - 211s 20ms/step - loss: 0.3293 - accuracy: 0.9122 - val_loss: 0.9628 - val_accuracy: 0.8542\n",
      "Epoch 14/50\n",
      "10800/10800 [==============================] - 211s 20ms/step - loss: 0.3238 - accuracy: 0.9149 - val_loss: 0.7411 - val_accuracy: 0.8575\n",
      "Epoch 15/50\n",
      "10800/10800 [==============================] - 212s 20ms/step - loss: 0.3081 - accuracy: 0.9169 - val_loss: 0.7457 - val_accuracy: 0.8517\n",
      "Epoch 16/50\n",
      "10800/10800 [==============================] - 213s 20ms/step - loss: 0.3301 - accuracy: 0.9149 - val_loss: 0.8519 - val_accuracy: 0.8533\n",
      "Epoch 17/50\n",
      "10800/10800 [==============================] - 213s 20ms/step - loss: 0.3267 - accuracy: 0.9182 - val_loss: 0.7812 - val_accuracy: 0.8425\n",
      "Epoch 18/50\n",
      "10800/10800 [==============================] - 212s 20ms/step - loss: 0.3278 - accuracy: 0.9187 - val_loss: 0.8999 - val_accuracy: 0.8467\n",
      "Epoch 19/50\n",
      "10800/10800 [==============================] - 213s 20ms/step - loss: 0.3301 - accuracy: 0.9201 - val_loss: 1.0211 - val_accuracy: 0.8575\n",
      "Epoch 20/50\n",
      "10800/10800 [==============================] - 213s 20ms/step - loss: 0.3103 - accuracy: 0.9269 - val_loss: 0.7720 - val_accuracy: 0.8600\n",
      "Epoch 21/50\n",
      "10800/10800 [==============================] - 212s 20ms/step - loss: 0.3192 - accuracy: 0.9260 - val_loss: 0.7746 - val_accuracy: 0.8492\n",
      "Epoch 22/50\n",
      "10800/10800 [==============================] - 215s 20ms/step - loss: 0.2931 - accuracy: 0.9342 - val_loss: 1.1082 - val_accuracy: 0.8408\n",
      "Epoch 23/50\n",
      "10800/10800 [==============================] - 215s 20ms/step - loss: 0.3157 - accuracy: 0.9278 - val_loss: 0.7775 - val_accuracy: 0.8517\n",
      "Epoch 24/50\n",
      "10800/10800 [==============================] - 215s 20ms/step - loss: 0.3134 - accuracy: 0.9365 - val_loss: 0.9063 - val_accuracy: 0.8392\n",
      "Epoch 25/50\n",
      "10800/10800 [==============================] - 217s 20ms/step - loss: 0.3227 - accuracy: 0.9296 - val_loss: 1.4971 - val_accuracy: 0.8308\n",
      "Epoch 26/50\n",
      "10800/10800 [==============================] - 218s 20ms/step - loss: 0.3334 - accuracy: 0.9346 - val_loss: 0.9551 - val_accuracy: 0.8675\n",
      "Epoch 27/50\n",
      "10800/10800 [==============================] - 218s 20ms/step - loss: 0.3482 - accuracy: 0.9316 - val_loss: 1.0497 - val_accuracy: 0.8425\n",
      "Epoch 28/50\n",
      "10800/10800 [==============================] - 218s 20ms/step - loss: 0.3093 - accuracy: 0.9381 - val_loss: 1.0967 - val_accuracy: 0.8600\n",
      "Epoch 29/50\n",
      "10800/10800 [==============================] - 217s 20ms/step - loss: 0.3472 - accuracy: 0.9325 - val_loss: 1.3257 - val_accuracy: 0.8525\n",
      "Epoch 30/50\n",
      "10800/10800 [==============================] - 217s 20ms/step - loss: 0.3366 - accuracy: 0.9310 - val_loss: 1.1844 - val_accuracy: 0.8717\n",
      "Epoch 31/50\n",
      "10800/10800 [==============================] - 219s 20ms/step - loss: 0.3467 - accuracy: 0.9335 - val_loss: 1.4329 - val_accuracy: 0.8533\n",
      "Epoch 32/50\n",
      "10800/10800 [==============================] - 226s 21ms/step - loss: 0.3356 - accuracy: 0.9320 - val_loss: 1.3495 - val_accuracy: 0.8508\n",
      "Epoch 33/50\n",
      "10800/10800 [==============================] - 226s 21ms/step - loss: 0.3638 - accuracy: 0.9264 - val_loss: 1.1833 - val_accuracy: 0.8608\n",
      "Epoch 34/50\n",
      "10800/10800 [==============================] - 227s 21ms/step - loss: 0.3331 - accuracy: 0.9319 - val_loss: 1.1505 - val_accuracy: 0.8625\n",
      "Epoch 35/50\n",
      "10800/10800 [==============================] - 225s 21ms/step - loss: 0.3126 - accuracy: 0.9409 - val_loss: 1.1763 - val_accuracy: 0.8558\n",
      "Epoch 36/50\n",
      "10800/10800 [==============================] - 226s 21ms/step - loss: 0.3654 - accuracy: 0.9362 - val_loss: 1.1599 - val_accuracy: 0.8500\n",
      "Epoch 37/50\n",
      "10800/10800 [==============================] - 226s 21ms/step - loss: 0.3704 - accuracy: 0.9356 - val_loss: 1.4045 - val_accuracy: 0.8575\n",
      "Epoch 38/50\n",
      "10800/10800 [==============================] - 226s 21ms/step - loss: 0.3566 - accuracy: 0.9392 - val_loss: 1.5820 - val_accuracy: 0.8500\n",
      "Epoch 39/50\n",
      "10800/10800 [==============================] - 226s 21ms/step - loss: 0.3223 - accuracy: 0.9406 - val_loss: 1.1399 - val_accuracy: 0.8550\n",
      "Epoch 40/50\n",
      "10800/10800 [==============================] - 226s 21ms/step - loss: 0.3580 - accuracy: 0.9426 - val_loss: 1.4011 - val_accuracy: 0.8567\n",
      "Epoch 41/50\n",
      "10800/10800 [==============================] - 227s 21ms/step - loss: 0.3578 - accuracy: 0.9356 - val_loss: 1.1643 - val_accuracy: 0.8742\n",
      "Epoch 42/50\n",
      "10800/10800 [==============================] - 227s 21ms/step - loss: 0.3489 - accuracy: 0.9385 - val_loss: 1.0927 - val_accuracy: 0.8658\n",
      "Epoch 43/50\n",
      "10800/10800 [==============================] - 225s 21ms/step - loss: 0.3720 - accuracy: 0.9388 - val_loss: 1.3911 - val_accuracy: 0.8592\n",
      "Epoch 44/50\n",
      "10800/10800 [==============================] - 225s 21ms/step - loss: 0.3598 - accuracy: 0.9414 - val_loss: 1.2318 - val_accuracy: 0.8733\n",
      "Epoch 45/50\n",
      "10800/10800 [==============================] - 226s 21ms/step - loss: 0.3579 - accuracy: 0.9406 - val_loss: 0.9608 - val_accuracy: 0.8550\n",
      "Epoch 46/50\n",
      "10800/10800 [==============================] - 226s 21ms/step - loss: 0.3846 - accuracy: 0.9342 - val_loss: 1.5248 - val_accuracy: 0.8592\n",
      "Epoch 47/50\n",
      "10800/10800 [==============================] - 226s 21ms/step - loss: 0.3642 - accuracy: 0.9428 - val_loss: 1.1893 - val_accuracy: 0.8492\n",
      "Epoch 48/50\n",
      "10800/10800 [==============================] - 226s 21ms/step - loss: 0.3777 - accuracy: 0.9394 - val_loss: 1.3663 - val_accuracy: 0.8567\n",
      "Epoch 49/50\n",
      "10800/10800 [==============================] - 226s 21ms/step - loss: 0.3647 - accuracy: 0.9390 - val_loss: 1.2834 - val_accuracy: 0.8700\n",
      "Epoch 50/50\n",
      "10800/10800 [==============================] - 229s 21ms/step - loss: 0.3878 - accuracy: 0.9400 - val_loss: 1.2974 - val_accuracy: 0.8500\n",
      "Model: \"sequential\"\n",
      "_________________________________________________________________\n",
      " Layer (type)                Output Shape              Param #   \n",
      "=================================================================\n",
      " conv2d (Conv2D)             (None, 32, 32, 128)       3584      \n",
      "                                                                 \n",
      " conv2d_1 (Conv2D)           (None, 30, 30, 256)       295168    \n",
      "                                                                 \n",
      " max_pooling2d (MaxPooling2D  (None, 7, 7, 256)        0         \n",
      " )                                                               \n",
      "                                                                 \n",
      " flatten (Flatten)           (None, 12544)             0         \n"
     ]
    },
    {
     "name": "stdout",
     "output_type": "stream",
     "text": [
      "                                                                 \n",
      " dropout (Dropout)           (None, 12544)             0         \n",
      "                                                                 \n",
      " dense (Dense)               (None, 128)               1605760   \n",
      "                                                                 \n",
      " dense_1 (Dense)             (None, 64)                8256      \n",
      "                                                                 \n",
      " dense_2 (Dense)             (None, 50)                3250      \n",
      "                                                                 \n",
      "=================================================================\n",
      "Total params: 1,916,018\n",
      "Trainable params: 1,916,018\n",
      "Non-trainable params: 0\n",
      "_________________________________________________________________\n"
     ]
    }
   ],
   "source": [
    "model.fit(train_generator, steps_per_epoch = 10800, epochs=50, validation_data=valid_generator, validation_steps=1200)\n",
    "model.summary()\n",
    "model.save_weights('first_try.h5')"
   ]
  },
  {
   "cell_type": "code",
   "execution_count": 6,
   "id": "5e350d8c",
   "metadata": {},
   "outputs": [
    {
     "name": "stdout",
     "output_type": "stream",
     "text": [
      "3000/3000 [==============================] - 20s 7ms/step - loss: 1.5077 - accuracy: 0.8313\n"
     ]
    },
    {
     "data": {
      "text/plain": [
       "[1.5076587200164795, 0.831333339214325]"
      ]
     },
     "execution_count": 6,
     "metadata": {},
     "output_type": "execute_result"
    }
   ],
   "source": [
    "model.evaluate(test_generator)"
   ]
  },
  {
   "cell_type": "code",
   "execution_count": null,
   "id": "be18fe26",
   "metadata": {},
   "outputs": [],
   "source": []
  }
 ],
 "metadata": {
  "kernelspec": {
   "display_name": "Python 3 (ipykernel)",
   "language": "python",
   "name": "python3"
  },
  "language_info": {
   "codemirror_mode": {
    "name": "ipython",
    "version": 3
   },
   "file_extension": ".py",
   "mimetype": "text/x-python",
   "name": "python",
   "nbconvert_exporter": "python",
   "pygments_lexer": "ipython3",
   "version": "3.10.8"
  }
 },
 "nbformat": 4,
 "nbformat_minor": 5
}
