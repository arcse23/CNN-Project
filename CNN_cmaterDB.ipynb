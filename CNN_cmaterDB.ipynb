{
 "cells": [
  {
   "cell_type": "code",
   "execution_count": 13,
   "id": "d5888a8d",
   "metadata": {},
   "outputs": [],
   "source": [
    "import tensorflow as tf\n",
    "from tensorflow.keras import Sequential\n",
    "from tensorflow.keras.layers import Dense, Conv2D, MaxPooling2D, Dropout, Flatten, Activation"
   ]
  },
  {
   "cell_type": "code",
   "execution_count": 17,
   "id": "10020a55",
   "metadata": {},
   "outputs": [],
   "source": [
    "SEED = 20\n",
    "train_dir = 'db/Train'\n",
    "test_dir = 'db/Test'\n",
    "IMG_SIZE = (28, 28)\n",
    "BATCH_SIZE = 32"
   ]
  },
  {
   "cell_type": "code",
   "execution_count": 18,
   "id": "61c1bb9b",
   "metadata": {
    "scrolled": true
   },
   "outputs": [
    {
     "name": "stdout",
     "output_type": "stream",
     "text": [
      "Found 12000 files belonging to 50 classes.\n",
      "Using 10200 files for training.\n",
      "Using 1800 files for validation.\n",
      "Found 3000 files belonging to 50 classes.\n"
     ]
    }
   ],
   "source": [
    "train_ds, val_ds = tf.keras.utils.image_dataset_from_directory(train_dir, color_mode='grayscale', batch_size=BATCH_SIZE, \n",
    "                                        image_size=IMG_SIZE, shuffle=True, seed=SEED, validation_split=0.15, subset='both', label_mode='categorical')\n",
    "test_ds =  tf.keras.utils.image_dataset_from_directory(test_dir, color_mode='grayscale', batch_size=BATCH_SIZE, \n",
    "                                        image_size=IMG_SIZE, shuffle=True, seed=SEED, label_mode='categorical')\n",
    "AUTOTUNE = tf.data.AUTOTUNE\n",
    "\n",
    "train_ds = train_ds.cache().shuffle(1000).prefetch(buffer_size=AUTOTUNE)\n",
    "val_ds = val_ds.cache().prefetch(buffer_size=AUTOTUNE)"
   ]
  },
  {
   "cell_type": "code",
   "execution_count": 19,
   "id": "8524f765",
   "metadata": {},
   "outputs": [
    {
     "name": "stdout",
     "output_type": "stream",
     "text": [
      "(32, 28, 28, 1)\n",
      "(32, 50)\n"
     ]
    }
   ],
   "source": [
    "for image_batch, labels_batch in train_ds:\n",
    "  print(image_batch.shape)\n",
    "  print(labels_batch.shape)\n",
    "  break"
   ]
  },
  {
   "cell_type": "code",
   "execution_count": 20,
   "id": "0d0bf541",
   "metadata": {},
   "outputs": [],
   "source": [
    "model = Sequential()"
   ]
  },
  {
   "cell_type": "code",
   "execution_count": 21,
   "id": "b609fd29",
   "metadata": {},
   "outputs": [
    {
     "data": {
      "text/plain": [
       "(None, 14, 14, 32)"
      ]
     },
     "execution_count": 21,
     "metadata": {},
     "output_type": "execute_result"
    }
   ],
   "source": [
    "model.add(Conv2D(32, 3, padding='same', input_shape=(28, 28, 1)))\n",
    "model.add(tf.keras.layers.LeakyReLU(alpha=0.1))\n",
    "model.add(MaxPooling2D(pool_size=(2, 2), strides=(2, 2)))\n",
    "model.add(Dropout(0.25))\n",
    "model.output_shape"
   ]
  },
  {
   "cell_type": "code",
   "execution_count": 22,
   "id": "c3a52a51",
   "metadata": {},
   "outputs": [
    {
     "data": {
      "text/plain": [
       "(None, 7, 7, 64)"
      ]
     },
     "execution_count": 22,
     "metadata": {},
     "output_type": "execute_result"
    }
   ],
   "source": [
    "model.add(Conv2D(64, 3, padding='same'))\n",
    "model.add(tf.keras.layers.LeakyReLU(alpha=0.1))\n",
    "model.add(MaxPooling2D(pool_size=(2, 2), strides=(2, 2)))\n",
    "model.add(Dropout(0.25))\n",
    "model.output_shape"
   ]
  },
  {
   "cell_type": "code",
   "execution_count": 23,
   "id": "72fb2c98",
   "metadata": {},
   "outputs": [
    {
     "data": {
      "text/plain": [
       "(None, 4, 4, 128)"
      ]
     },
     "execution_count": 23,
     "metadata": {},
     "output_type": "execute_result"
    }
   ],
   "source": [
    "model.add(Conv2D(128, 3, padding='valid'))\n",
    "model.add(tf.keras.layers.LeakyReLU(alpha=0.1))\n",
    "model.add(MaxPooling2D(pool_size=(2, 2), strides=(1, 1)))\n",
    "model.add(Dropout(0.25))\n",
    "model.output_shape"
   ]
  },
  {
   "cell_type": "code",
   "execution_count": 24,
   "id": "e141c0f0",
   "metadata": {},
   "outputs": [
    {
     "data": {
      "text/plain": [
       "(None, 128)"
      ]
     },
     "execution_count": 24,
     "metadata": {},
     "output_type": "execute_result"
    }
   ],
   "source": [
    "model.add(Flatten())\n",
    "model.add(Dense(128))\n",
    "model.add(tf.keras.layers.LeakyReLU(alpha=0.1))\n",
    "model.add(Dropout(0.3))\n",
    "model.output_shape"
   ]
  },
  {
   "cell_type": "code",
   "execution_count": 25,
   "id": "77894e4c",
   "metadata": {},
   "outputs": [
    {
     "data": {
      "text/plain": [
       "(None, 50)"
      ]
     },
     "execution_count": 25,
     "metadata": {},
     "output_type": "execute_result"
    }
   ],
   "source": [
    "model.add(Dense(50, activation='softmax'))\n",
    "model.output_shape"
   ]
  },
  {
   "cell_type": "code",
   "execution_count": 26,
   "id": "b5bf125a",
   "metadata": {},
   "outputs": [
    {
     "name": "stdout",
     "output_type": "stream",
     "text": [
      "Model: \"sequential_1\"\n",
      "_________________________________________________________________\n",
      " Layer (type)                Output Shape              Param #   \n",
      "=================================================================\n",
      " conv2d_3 (Conv2D)           (None, 28, 28, 32)        320       \n",
      "                                                                 \n",
      " leaky_re_lu_4 (LeakyReLU)   (None, 28, 28, 32)        0         \n",
      "                                                                 \n",
      " max_pooling2d_3 (MaxPooling  (None, 14, 14, 32)       0         \n",
      " 2D)                                                             \n",
      "                                                                 \n",
      " dropout_4 (Dropout)         (None, 14, 14, 32)        0         \n",
      "                                                                 \n",
      " conv2d_4 (Conv2D)           (None, 14, 14, 64)        18496     \n",
      "                                                                 \n",
      " leaky_re_lu_5 (LeakyReLU)   (None, 14, 14, 64)        0         \n",
      "                                                                 \n",
      " max_pooling2d_4 (MaxPooling  (None, 7, 7, 64)         0         \n",
      " 2D)                                                             \n",
      "                                                                 \n",
      " dropout_5 (Dropout)         (None, 7, 7, 64)          0         \n",
      "                                                                 \n",
      " conv2d_5 (Conv2D)           (None, 5, 5, 128)         73856     \n",
      "                                                                 \n",
      " leaky_re_lu_6 (LeakyReLU)   (None, 5, 5, 128)         0         \n",
      "                                                                 \n",
      " max_pooling2d_5 (MaxPooling  (None, 4, 4, 128)        0         \n",
      " 2D)                                                             \n",
      "                                                                 \n",
      " dropout_6 (Dropout)         (None, 4, 4, 128)         0         \n",
      "                                                                 \n",
      " flatten_1 (Flatten)         (None, 2048)              0         \n",
      "                                                                 \n",
      " dense_2 (Dense)             (None, 128)               262272    \n",
      "                                                                 \n",
      " leaky_re_lu_7 (LeakyReLU)   (None, 128)               0         \n",
      "                                                                 \n",
      " dropout_7 (Dropout)         (None, 128)               0         \n",
      "                                                                 \n",
      " dense_3 (Dense)             (None, 50)                6450      \n",
      "                                                                 \n",
      "=================================================================\n",
      "Total params: 361,394\n",
      "Trainable params: 361,394\n",
      "Non-trainable params: 0\n",
      "_________________________________________________________________\n"
     ]
    }
   ],
   "source": [
    "opt = tf.keras.optimizers.Adam()\n",
    "model.compile(optimizer = opt, loss = 'categorical_crossentropy', metrics = ['accuracy'])\n",
    "model.summary()"
   ]
  },
  {
   "cell_type": "code",
   "execution_count": 27,
   "id": "c26f4400",
   "metadata": {
    "scrolled": true
   },
   "outputs": [
    {
     "name": "stdout",
     "output_type": "stream",
     "text": [
      "Epoch 1/100\n",
      "319/319 [==============================] - 10s 31ms/step - loss: 5.8720 - accuracy: 0.0342 - val_loss: 3.5296 - val_accuracy: 0.1022\n",
      "Epoch 2/100\n",
      "319/319 [==============================] - 9s 28ms/step - loss: 2.9153 - accuracy: 0.2399 - val_loss: 1.7927 - val_accuracy: 0.4911\n",
      "Epoch 3/100\n",
      "319/319 [==============================] - 8s 24ms/step - loss: 1.6238 - accuracy: 0.5396 - val_loss: 1.0611 - val_accuracy: 0.6922\n",
      "Epoch 4/100\n",
      "319/319 [==============================] - 8s 25ms/step - loss: 1.1152 - accuracy: 0.6752 - val_loss: 0.6460 - val_accuracy: 0.8028\n",
      "Epoch 5/100\n",
      "319/319 [==============================] - 8s 24ms/step - loss: 0.8760 - accuracy: 0.7376 - val_loss: 0.5006 - val_accuracy: 0.8611\n",
      "Epoch 6/100\n",
      "319/319 [==============================] - 8s 24ms/step - loss: 0.7202 - accuracy: 0.7819 - val_loss: 0.4018 - val_accuracy: 0.8872\n",
      "Epoch 7/100\n",
      "319/319 [==============================] - 8s 24ms/step - loss: 0.6436 - accuracy: 0.8026 - val_loss: 0.3628 - val_accuracy: 0.8922\n",
      "Epoch 8/100\n",
      "319/319 [==============================] - 8s 25ms/step - loss: 0.5711 - accuracy: 0.8219 - val_loss: 0.3691 - val_accuracy: 0.8928\n",
      "Epoch 9/100\n",
      "319/319 [==============================] - 8s 24ms/step - loss: 0.5162 - accuracy: 0.8438 - val_loss: 0.3263 - val_accuracy: 0.9044\n",
      "Epoch 10/100\n",
      "319/319 [==============================] - 8s 24ms/step - loss: 0.4489 - accuracy: 0.8600 - val_loss: 0.3055 - val_accuracy: 0.9111\n",
      "Epoch 11/100\n",
      "319/319 [==============================] - 8s 25ms/step - loss: 0.4264 - accuracy: 0.8695 - val_loss: 0.2984 - val_accuracy: 0.9078\n",
      "Epoch 12/100\n",
      "319/319 [==============================] - 8s 25ms/step - loss: 0.3977 - accuracy: 0.8750 - val_loss: 0.2720 - val_accuracy: 0.9278\n",
      "Epoch 13/100\n",
      "319/319 [==============================] - 8s 24ms/step - loss: 0.3756 - accuracy: 0.8836 - val_loss: 0.2518 - val_accuracy: 0.9283\n",
      "Epoch 14/100\n",
      "319/319 [==============================] - 8s 24ms/step - loss: 0.3797 - accuracy: 0.8825 - val_loss: 0.2796 - val_accuracy: 0.9250\n",
      "Epoch 15/100\n",
      "319/319 [==============================] - 8s 24ms/step - loss: 0.3532 - accuracy: 0.8917 - val_loss: 0.3209 - val_accuracy: 0.9189\n",
      "Epoch 16/100\n",
      "319/319 [==============================] - 8s 24ms/step - loss: 0.3452 - accuracy: 0.8959 - val_loss: 0.2933 - val_accuracy: 0.9178\n",
      "Epoch 17/100\n",
      "319/319 [==============================] - 8s 24ms/step - loss: 0.3442 - accuracy: 0.8937 - val_loss: 0.3239 - val_accuracy: 0.9017\n",
      "Epoch 18/100\n",
      "319/319 [==============================] - 8s 24ms/step - loss: 0.3440 - accuracy: 0.8998 - val_loss: 0.2613 - val_accuracy: 0.9267\n",
      "Epoch 19/100\n",
      "319/319 [==============================] - 8s 24ms/step - loss: 0.3263 - accuracy: 0.9003 - val_loss: 0.2421 - val_accuracy: 0.9356\n",
      "Epoch 20/100\n",
      "319/319 [==============================] - 8s 24ms/step - loss: 0.3292 - accuracy: 0.8990 - val_loss: 0.2717 - val_accuracy: 0.9317\n",
      "Epoch 21/100\n",
      "319/319 [==============================] - 8s 24ms/step - loss: 0.3016 - accuracy: 0.9084 - val_loss: 0.2438 - val_accuracy: 0.9372\n",
      "Epoch 22/100\n",
      "319/319 [==============================] - 8s 24ms/step - loss: 0.3023 - accuracy: 0.9105 - val_loss: 0.2758 - val_accuracy: 0.9333\n",
      "Epoch 23/100\n",
      "319/319 [==============================] - 8s 24ms/step - loss: 0.3276 - accuracy: 0.9067 - val_loss: 0.2763 - val_accuracy: 0.9200\n",
      "Epoch 24/100\n",
      "319/319 [==============================] - 8s 24ms/step - loss: 0.2957 - accuracy: 0.9125 - val_loss: 0.2895 - val_accuracy: 0.9239\n",
      "Epoch 25/100\n",
      "319/319 [==============================] - 8s 25ms/step - loss: 0.3024 - accuracy: 0.9124 - val_loss: 0.2673 - val_accuracy: 0.9289\n",
      "Epoch 26/100\n",
      "319/319 [==============================] - 8s 24ms/step - loss: 0.3034 - accuracy: 0.9094 - val_loss: 0.3201 - val_accuracy: 0.9328\n",
      "Epoch 27/100\n",
      "319/319 [==============================] - 8s 24ms/step - loss: 0.3084 - accuracy: 0.9115 - val_loss: 0.2543 - val_accuracy: 0.9367\n",
      "Epoch 28/100\n",
      "319/319 [==============================] - 8s 25ms/step - loss: 0.2720 - accuracy: 0.9207 - val_loss: 0.3562 - val_accuracy: 0.9206\n",
      "Epoch 29/100\n",
      "319/319 [==============================] - 8s 24ms/step - loss: 0.2908 - accuracy: 0.9136 - val_loss: 0.2620 - val_accuracy: 0.9328\n",
      "Epoch 30/100\n",
      "319/319 [==============================] - 8s 24ms/step - loss: 0.2907 - accuracy: 0.9182 - val_loss: 0.2509 - val_accuracy: 0.9350\n",
      "Epoch 31/100\n",
      "319/319 [==============================] - 8s 24ms/step - loss: 0.2944 - accuracy: 0.9205 - val_loss: 0.3031 - val_accuracy: 0.9156\n",
      "Epoch 32/100\n",
      "319/319 [==============================] - 8s 24ms/step - loss: 0.2801 - accuracy: 0.9190 - val_loss: 0.2747 - val_accuracy: 0.9333\n",
      "Epoch 33/100\n",
      "319/319 [==============================] - 8s 24ms/step - loss: 0.2857 - accuracy: 0.9219 - val_loss: 0.2577 - val_accuracy: 0.9300\n",
      "Epoch 34/100\n",
      "319/319 [==============================] - 8s 25ms/step - loss: 0.3060 - accuracy: 0.9167 - val_loss: 0.2824 - val_accuracy: 0.9367\n",
      "Epoch 35/100\n",
      "319/319 [==============================] - 8s 25ms/step - loss: 0.2800 - accuracy: 0.9225 - val_loss: 0.3111 - val_accuracy: 0.9161\n",
      "Epoch 36/100\n",
      "319/319 [==============================] - 8s 24ms/step - loss: 0.3058 - accuracy: 0.9189 - val_loss: 0.3153 - val_accuracy: 0.9222\n",
      "Epoch 37/100\n",
      "319/319 [==============================] - 7s 23ms/step - loss: 0.3136 - accuracy: 0.9156 - val_loss: 0.3378 - val_accuracy: 0.9261\n",
      "Epoch 38/100\n",
      "319/319 [==============================] - 7s 23ms/step - loss: 0.2758 - accuracy: 0.9266 - val_loss: 0.2532 - val_accuracy: 0.9378\n",
      "Epoch 39/100\n",
      "319/319 [==============================] - 7s 23ms/step - loss: 0.2751 - accuracy: 0.9287 - val_loss: 0.2775 - val_accuracy: 0.9428\n",
      "Epoch 40/100\n",
      "319/319 [==============================] - 7s 23ms/step - loss: 0.3287 - accuracy: 0.9188 - val_loss: 0.2896 - val_accuracy: 0.9300\n",
      "Epoch 41/100\n",
      "319/319 [==============================] - 7s 23ms/step - loss: 0.3005 - accuracy: 0.9205 - val_loss: 0.4022 - val_accuracy: 0.9194\n",
      "Epoch 42/100\n",
      "319/319 [==============================] - 8s 24ms/step - loss: 0.2831 - accuracy: 0.9283 - val_loss: 0.3443 - val_accuracy: 0.9278\n",
      "Epoch 43/100\n",
      "319/319 [==============================] - 8s 25ms/step - loss: 0.2549 - accuracy: 0.9324 - val_loss: 0.3026 - val_accuracy: 0.9317\n",
      "Epoch 44/100\n",
      "319/319 [==============================] - 8s 24ms/step - loss: 0.3136 - accuracy: 0.9233 - val_loss: 0.2953 - val_accuracy: 0.9289\n",
      "Epoch 45/100\n",
      "319/319 [==============================] - 8s 24ms/step - loss: 0.2517 - accuracy: 0.9324 - val_loss: 0.2254 - val_accuracy: 0.9433\n",
      "Epoch 46/100\n",
      "319/319 [==============================] - 8s 25ms/step - loss: 0.2803 - accuracy: 0.9242 - val_loss: 0.2904 - val_accuracy: 0.9283\n",
      "Epoch 47/100\n",
      "319/319 [==============================] - 8s 25ms/step - loss: 0.2539 - accuracy: 0.9339 - val_loss: 0.2766 - val_accuracy: 0.9278\n",
      "Epoch 48/100\n",
      "319/319 [==============================] - 8s 24ms/step - loss: 0.2739 - accuracy: 0.9306 - val_loss: 0.2894 - val_accuracy: 0.9378\n",
      "Epoch 49/100\n",
      "319/319 [==============================] - 8s 24ms/step - loss: 0.3298 - accuracy: 0.9196 - val_loss: 0.3908 - val_accuracy: 0.9222\n",
      "Epoch 50/100\n",
      "319/319 [==============================] - 8s 25ms/step - loss: 0.3209 - accuracy: 0.9223 - val_loss: 0.3194 - val_accuracy: 0.9272\n",
      "Epoch 51/100\n",
      "319/319 [==============================] - 8s 25ms/step - loss: 0.3161 - accuracy: 0.9242 - val_loss: 0.2847 - val_accuracy: 0.9367\n",
      "Epoch 52/100\n",
      "319/319 [==============================] - 8s 25ms/step - loss: 0.3358 - accuracy: 0.9202 - val_loss: 0.3060 - val_accuracy: 0.9339\n",
      "Epoch 53/100\n",
      "319/319 [==============================] - 8s 25ms/step - loss: 0.2668 - accuracy: 0.9342 - val_loss: 0.3663 - val_accuracy: 0.9244\n",
      "Epoch 54/100\n",
      "319/319 [==============================] - 8s 25ms/step - loss: 0.2691 - accuracy: 0.9325 - val_loss: 0.3220 - val_accuracy: 0.9333\n",
      "Epoch 55/100\n",
      "319/319 [==============================] - 8s 24ms/step - loss: 0.2767 - accuracy: 0.9329 - val_loss: 0.3625 - val_accuracy: 0.9306\n",
      "Epoch 56/100\n",
      "319/319 [==============================] - 8s 25ms/step - loss: 0.3125 - accuracy: 0.9273 - val_loss: 0.3634 - val_accuracy: 0.9244\n",
      "Epoch 57/100\n"
     ]
    },
    {
     "name": "stdout",
     "output_type": "stream",
     "text": [
      "319/319 [==============================] - 8s 25ms/step - loss: 0.3265 - accuracy: 0.9264 - val_loss: 0.2533 - val_accuracy: 0.9378\n",
      "Epoch 58/100\n",
      "319/319 [==============================] - 9s 27ms/step - loss: 0.3118 - accuracy: 0.9293 - val_loss: 0.2680 - val_accuracy: 0.9356\n",
      "Epoch 59/100\n",
      "319/319 [==============================] - 8s 24ms/step - loss: 0.3016 - accuracy: 0.9273 - val_loss: 0.3485 - val_accuracy: 0.9139\n",
      "Epoch 60/100\n",
      "319/319 [==============================] - 7s 23ms/step - loss: 0.3247 - accuracy: 0.9228 - val_loss: 0.2760 - val_accuracy: 0.9439\n",
      "Epoch 61/100\n",
      "319/319 [==============================] - 7s 23ms/step - loss: 0.2605 - accuracy: 0.9363 - val_loss: 0.3069 - val_accuracy: 0.9322\n",
      "Epoch 62/100\n",
      "319/319 [==============================] - 8s 26ms/step - loss: 0.3238 - accuracy: 0.9283 - val_loss: 0.3308 - val_accuracy: 0.9356\n",
      "Epoch 63/100\n",
      "319/319 [==============================] - 7s 23ms/step - loss: 0.2635 - accuracy: 0.9359 - val_loss: 0.2545 - val_accuracy: 0.9439\n",
      "Epoch 64/100\n",
      "319/319 [==============================] - 7s 23ms/step - loss: 0.3669 - accuracy: 0.9228 - val_loss: 0.2933 - val_accuracy: 0.9356\n",
      "Epoch 65/100\n",
      "319/319 [==============================] - 7s 23ms/step - loss: 0.2911 - accuracy: 0.9327 - val_loss: 0.2898 - val_accuracy: 0.9356\n",
      "Epoch 66/100\n",
      "319/319 [==============================] - 7s 23ms/step - loss: 0.3181 - accuracy: 0.9360 - val_loss: 0.4204 - val_accuracy: 0.9317\n",
      "Epoch 67/100\n",
      "319/319 [==============================] - 8s 24ms/step - loss: 0.3428 - accuracy: 0.9308 - val_loss: 0.3822 - val_accuracy: 0.9444\n",
      "Epoch 68/100\n",
      "319/319 [==============================] - 8s 25ms/step - loss: 0.3521 - accuracy: 0.9264 - val_loss: 0.3103 - val_accuracy: 0.9344\n",
      "Epoch 69/100\n",
      "319/319 [==============================] - 8s 24ms/step - loss: 0.2359 - accuracy: 0.9425 - val_loss: 0.3702 - val_accuracy: 0.9361\n",
      "Epoch 70/100\n",
      "319/319 [==============================] - 7s 23ms/step - loss: 0.2987 - accuracy: 0.9360 - val_loss: 0.3968 - val_accuracy: 0.9411\n",
      "Epoch 71/100\n",
      "319/319 [==============================] - 8s 25ms/step - loss: 0.3157 - accuracy: 0.9343 - val_loss: 0.3523 - val_accuracy: 0.9350\n",
      "Epoch 72/100\n",
      "319/319 [==============================] - 8s 25ms/step - loss: 0.3416 - accuracy: 0.9280 - val_loss: 0.3190 - val_accuracy: 0.9328\n",
      "Epoch 73/100\n",
      "319/319 [==============================] - 8s 25ms/step - loss: 0.3370 - accuracy: 0.9312 - val_loss: 0.3306 - val_accuracy: 0.9444\n",
      "Epoch 74/100\n",
      "319/319 [==============================] - 8s 25ms/step - loss: 0.3126 - accuracy: 0.9355 - val_loss: 0.3708 - val_accuracy: 0.9344\n",
      "Epoch 75/100\n",
      "319/319 [==============================] - 8s 25ms/step - loss: 0.3158 - accuracy: 0.9341 - val_loss: 0.3264 - val_accuracy: 0.9422\n",
      "Epoch 76/100\n",
      "319/319 [==============================] - 8s 25ms/step - loss: 0.3063 - accuracy: 0.9360 - val_loss: 0.4140 - val_accuracy: 0.9417\n",
      "Epoch 77/100\n",
      "319/319 [==============================] - 8s 25ms/step - loss: 0.3195 - accuracy: 0.9312 - val_loss: 0.4024 - val_accuracy: 0.9350\n",
      "Epoch 78/100\n",
      "319/319 [==============================] - 8s 24ms/step - loss: 0.3509 - accuracy: 0.9265 - val_loss: 0.3423 - val_accuracy: 0.9239\n",
      "Epoch 79/100\n",
      "319/319 [==============================] - 8s 25ms/step - loss: 0.3283 - accuracy: 0.9361 - val_loss: 0.3152 - val_accuracy: 0.9344\n",
      "Epoch 80/100\n",
      "319/319 [==============================] - 7s 23ms/step - loss: 0.2719 - accuracy: 0.9409 - val_loss: 0.4136 - val_accuracy: 0.9278\n",
      "Epoch 81/100\n",
      "319/319 [==============================] - 7s 23ms/step - loss: 0.3657 - accuracy: 0.9306 - val_loss: 0.5519 - val_accuracy: 0.9228\n",
      "Epoch 82/100\n",
      "319/319 [==============================] - 8s 24ms/step - loss: 0.3592 - accuracy: 0.9324 - val_loss: 0.4476 - val_accuracy: 0.9261\n",
      "Epoch 83/100\n",
      "319/319 [==============================] - 8s 24ms/step - loss: 0.4041 - accuracy: 0.9268 - val_loss: 0.4458 - val_accuracy: 0.9072\n",
      "Epoch 84/100\n",
      "319/319 [==============================] - 8s 26ms/step - loss: 0.3326 - accuracy: 0.9336 - val_loss: 0.3680 - val_accuracy: 0.9317\n",
      "Epoch 85/100\n",
      "319/319 [==============================] - 8s 24ms/step - loss: 0.3164 - accuracy: 0.9372 - val_loss: 0.4000 - val_accuracy: 0.9411\n",
      "Epoch 86/100\n",
      "319/319 [==============================] - 8s 25ms/step - loss: 0.3161 - accuracy: 0.9345 - val_loss: 0.5569 - val_accuracy: 0.9289\n",
      "Epoch 87/100\n",
      "319/319 [==============================] - 8s 25ms/step - loss: 0.3722 - accuracy: 0.9324 - val_loss: 0.5283 - val_accuracy: 0.9267\n",
      "Epoch 88/100\n",
      "319/319 [==============================] - 8s 25ms/step - loss: 0.3300 - accuracy: 0.9420 - val_loss: 0.5091 - val_accuracy: 0.9300\n",
      "Epoch 89/100\n",
      "319/319 [==============================] - 8s 25ms/step - loss: 0.3220 - accuracy: 0.9425 - val_loss: 0.4171 - val_accuracy: 0.9228\n",
      "Epoch 90/100\n",
      "319/319 [==============================] - 8s 25ms/step - loss: 0.3447 - accuracy: 0.9388 - val_loss: 0.3654 - val_accuracy: 0.9333\n",
      "Epoch 91/100\n",
      "319/319 [==============================] - 8s 25ms/step - loss: 0.3081 - accuracy: 0.9409 - val_loss: 0.2989 - val_accuracy: 0.9428\n",
      "Epoch 92/100\n",
      "319/319 [==============================] - 8s 24ms/step - loss: 0.3582 - accuracy: 0.9367 - val_loss: 0.3680 - val_accuracy: 0.9317\n",
      "Epoch 93/100\n",
      "319/319 [==============================] - 8s 25ms/step - loss: 0.3783 - accuracy: 0.9309 - val_loss: 0.3792 - val_accuracy: 0.9228\n",
      "Epoch 94/100\n",
      "319/319 [==============================] - 8s 25ms/step - loss: 0.3033 - accuracy: 0.9441 - val_loss: 0.4659 - val_accuracy: 0.9350\n",
      "Epoch 95/100\n",
      "319/319 [==============================] - 8s 25ms/step - loss: 0.2998 - accuracy: 0.9393 - val_loss: 0.4963 - val_accuracy: 0.9306\n",
      "Epoch 96/100\n",
      "319/319 [==============================] - 8s 25ms/step - loss: 0.3671 - accuracy: 0.9327 - val_loss: 0.3799 - val_accuracy: 0.9339\n",
      "Epoch 97/100\n",
      "319/319 [==============================] - 8s 26ms/step - loss: 0.3281 - accuracy: 0.9408 - val_loss: 0.3911 - val_accuracy: 0.9417\n",
      "Epoch 98/100\n",
      "319/319 [==============================] - 8s 25ms/step - loss: 0.4298 - accuracy: 0.9265 - val_loss: 0.4123 - val_accuracy: 0.9228\n",
      "Epoch 99/100\n",
      "319/319 [==============================] - 8s 24ms/step - loss: 0.3785 - accuracy: 0.9352 - val_loss: 0.4499 - val_accuracy: 0.9400\n",
      "Epoch 100/100\n",
      "319/319 [==============================] - 8s 25ms/step - loss: 0.2791 - accuracy: 0.9455 - val_loss: 0.3944 - val_accuracy: 0.9417\n"
     ]
    }
   ],
   "source": [
    "history = model.fit(train_ds, epochs=100, validation_data=val_ds)\n",
    "model.save_weights('train_weights1.h5')"
   ]
  },
  {
   "cell_type": "code",
   "execution_count": 41,
   "id": "c2384f2f",
   "metadata": {},
   "outputs": [
    {
     "name": "stdout",
     "output_type": "stream",
     "text": [
      "94/94 [==============================] - 1s 12ms/step - loss: 0.3530 - accuracy: 0.9407\n"
     ]
    }
   ],
   "source": [
    "result = model.evaluate(test_ds)"
   ]
  },
  {
   "cell_type": "code",
   "execution_count": 42,
   "id": "64f7e9aa",
   "metadata": {},
   "outputs": [
    {
     "data": {
      "image/png": "[encoded data removed]",
      "text/plain": [
       "<Figure size 640x480 with 1 Axes>"
      ]
     },
     "metadata": {},
     "output_type": "display_data"
    }
   ],
   "source": [
    "from matplotlib import pyplot as plt\n",
    "plt.plot(history.history['accuracy'])\n",
    "plt.plot(history.history['val_accuracy'])\n",
    "plt.title('Training Accuracy vs Validation Accuracy')\n",
    "plt.ylabel('accuracy')\n",
    "plt.xlabel('epoch')\n",
    "plt.legend(['training', 'validation'], loc='lower right')\n",
    "plt.show()"
   ]
  },
  {
   "cell_type": "code",
   "execution_count": 43,
   "id": "ad94f3ee",
   "metadata": {},
   "outputs": [
    {
     "data": {
      "image/png": "[encoded data removed]",
      "text/plain": [
       "<Figure size 640x480 with 1 Axes>"
      ]
     },
     "metadata": {},
     "output_type": "display_data"
    }
   ],
   "source": [
    "plt.plot(history.history['loss'])\n",
    "plt.plot(history.history['val_loss'])\n",
    "plt.title('Training Loss vs Validation Loss')\n",
    "plt.ylabel('loss')\n",
    "plt.xlabel('epochs')\n",
    "plt.legend(['training', 'validation'], loc='upper right')\n",
    "plt.show()"
   ]
  },
  {
   "cell_type": "code",
   "execution_count": null,
   "id": "b34ca0fc",
   "metadata": {},
   "outputs": [],
   "source": []
  }
 ],
 "metadata": {
  "kernelspec": {
   "display_name": "Python 3 (ipykernel)",
   "language": "python",
   "name": "python3"
  },
  "language_info": {
   "codemirror_mode": {
    "name": "ipython",
    "version": 3
   },
   "file_extension": ".py",
   "mimetype": "text/x-python",
   "name": "python",
   "nbconvert_exporter": "python",
   "pygments_lexer": "ipython3",
   "version": "3.10.8"
  }
 },
 "nbformat": 4,
 "nbformat_minor": 5
}
