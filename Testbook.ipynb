{
 "cells": [
  {
   "cell_type": "code",
   "execution_count": 1,
   "id": "d719bb83",
   "metadata": {},
   "outputs": [],
   "source": [
    "import os\n",
    "import cv2"
   ]
  },
  {
   "cell_type": "code",
   "execution_count": null,
   "id": "4084efd6",
   "metadata": {},
   "outputs": [],
   "source": [
    "path = os.getcwd() + \"\\cmaterdb\\Train\"\n",
    "for pname in os.listdir(path):\n",
    "    fpath = path + \"\\\\\" + pname\n",
    "    i = 1\n",
    "    for fname in os.listdir(fpath):\n",
    "        os.renames(fpath+\"\\\\\"+fname, fpath+\"\\\\\"+str(i)+\".bmp\")\n",
    "        i +=1\n",
    "\n",
    "path = os.getcwd() + \"\\cmaterdb\\Train\"\n",
    "for pname in os.listdir(path):\n",
    "    fpath = path + \"\\\\\" + pname\n",
    "    i = 1\n",
    "    for fname in os.listdir(fpath):\n",
    "        if i <= 240:\n",
    "            print(fpath, fname)\n",
    "            image = cv2.imread(fpath+\"\\\\\"+str(i)+\".bmp\")\n",
    "            image = cv2.cvtColor(image, cv2.COLOR_BGR2GRAY)\n",
    "            otsu_threshold, image_result = cv2.threshold(image, 0, 255, cv2.THRESH_BINARY_INV+cv2.THRESH_OTSU)\n",
    "            cv2.imwrite(fpath+\"\\\\\"+str(i)+\".bmp\", image_result)\n",
    "            print(\"Success \" + str(i))\n",
    "            i += 1"
   ]
  }
 ],
 "metadata": {
  "kernelspec": {
   "display_name": "Python 3 (ipykernel)",
   "language": "python",
   "name": "python3"
  },
  "language_info": {
   "codemirror_mode": {
    "name": "ipython",
    "version": 3
   },
   "file_extension": ".py",
   "mimetype": "text/x-python",
   "name": "python",
   "nbconvert_exporter": "python",
   "pygments_lexer": "ipython3",
   "version": "3.10.8"
  }
 },
 "nbformat": 4,
 "nbformat_minor": 5
}
